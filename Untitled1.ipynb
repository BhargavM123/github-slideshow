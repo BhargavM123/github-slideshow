{
  "nbformat": 4,
  "nbformat_minor": 0,
  "metadata": {
    "colab": {
      "name": "Untitled1.ipynb",
      "provenance": [],
      "collapsed_sections": [],
      "authorship_tag": "ABX9TyPi0C0jt7ILA0k2FZcOYV1T",
      "include_colab_link": true
    },
    "kernelspec": {
      "display_name": "Python 3",
      "name": "python3"
    },
    "language_info": {
      "name": "python"
    }
  },
  "cells": [
    {
      "cell_type": "markdown",
      "metadata": {
        "id": "view-in-github",
        "colab_type": "text"
      },
      "source": [
        "<a href=\"https://colab.research.google.com/github/BhargavM123/github-slideshow/blob/googlecodelabs/Untitled1.ipynb\" target=\"_parent\"><img src=\"https://colab.research.google.com/assets/colab-badge.svg\" alt=\"Open In Colab\"/></a>"
      ]
    },
    {
      "cell_type": "code",
      "metadata": {
        "id": "DVIMaIn738Ki"
      },
      "source": [
        "import keras\n"
      ],
      "execution_count": null,
      "outputs": []
    },
    {
      "cell_type": "code",
      "metadata": {
        "id": "Jt6bkdzL4E6A"
      },
      "source": [
        "from keras.datasets import mnist\n",
        "# for handwritten data mnist is used"
      ],
      "execution_count": 4,
      "outputs": []
    },
    {
      "cell_type": "code",
      "metadata": {
        "id": "zrFCAGmE4LqG",
        "colab": {
          "base_uri": "https://localhost:8080/"
        },
        "outputId": "208b5331-28be-44b5-dbbd-e3cd722dda45"
      },
      "source": [
        "(X_train,Y_train),(X_test,Y_test) = mnist.load_data()"
      ],
      "execution_count": 5,
      "outputs": [
        {
          "output_type": "stream",
          "text": [
            "Downloading data from https://storage.googleapis.com/tensorflow/tf-keras-datasets/mnist.npz\n",
            "11493376/11490434 [==============================] - 0s 0us/step\n"
          ],
          "name": "stdout"
        }
      ]
    },
    {
      "cell_type": "code",
      "metadata": {
        "colab": {
          "base_uri": "https://localhost:8080/"
        },
        "id": "HPFfzCPW4hQB",
        "outputId": "49d3761f-3a56-45aa-abbe-50d5314a8cfc"
      },
      "source": [
        "X_train.shape"
      ],
      "execution_count": 7,
      "outputs": [
        {
          "output_type": "execute_result",
          "data": {
            "text/plain": [
              "(60000, 28, 28)"
            ]
          },
          "metadata": {
            "tags": []
          },
          "execution_count": 7
        }
      ]
    },
    {
      "cell_type": "code",
      "metadata": {
        "id": "f7aAh24e4maH"
      },
      "source": [
        "import  matplotlib.pyplot as plt"
      ],
      "execution_count": 8,
      "outputs": []
    },
    {
      "cell_type": "code",
      "metadata": {
        "id": "_ase6c884t8h"
      },
      "source": [
        "def display(data):\n",
        "   plt.imshow(data.reshape(28,28), cmap=\"gray\")"
      ],
      "execution_count": 9,
      "outputs": []
    },
    {
      "cell_type": "code",
      "metadata": {
        "colab": {
          "base_uri": "https://localhost:8080/",
          "height": 282
        },
        "id": "Hkh4MDyv4zFv",
        "outputId": "bacad64e-74f5-49f5-8720-3b689fd16e8b"
      },
      "source": [
        "display(X_train[3])\n",
        "print(Y_train[3])"
      ],
      "execution_count": 11,
      "outputs": [
        {
          "output_type": "stream",
          "text": [
            "1\n"
          ],
          "name": "stdout"
        },
        {
          "output_type": "display_data",
          "data": {
            "image/png": "[encoded data removed]",
            "text/plain": [
              "<Figure size 432x288 with 1 Axes>"
            ]
          },
          "metadata": {
            "tags": [],
            "needs_background": "light"
          }
        }
      ]
    },
    {
      "cell_type": "code",
      "metadata": {
        "id": "6pUQctd95hf4"
      },
      "source": [
        "X_train = X_train.reshape(60000,784)"
      ],
      "execution_count": 12,
      "outputs": []
    },
    {
      "cell_type": "code",
      "metadata": {
        "colab": {
          "base_uri": "https://localhost:8080/"
        },
        "id": "9R5ask9N6iRI",
        "outputId": "5d7a2410-c9fa-43c3-e48b-ef76be2abab2"
      },
      "source": [
        "X_train.shape"
      ],
      "execution_count": 13,
      "outputs": [
        {
          "output_type": "execute_result",
          "data": {
            "text/plain": [
              "(60000, 784)"
            ]
          },
          "metadata": {
            "tags": []
          },
          "execution_count": 13
        }
      ]
    },
    {
      "cell_type": "code",
      "metadata": {
        "colab": {
          "base_uri": "https://localhost:8080/"
        },
        "id": "2CZjrwom6lbi",
        "outputId": "1e24b6f1-2c52-4e7d-e15c-fb5cc96cdfa6"
      },
      "source": [
        "X_test.shape"
      ],
      "execution_count": 14,
      "outputs": [
        {
          "output_type": "execute_result",
          "data": {
            "text/plain": [
              "(10000, 28, 28)"
            ]
          },
          "metadata": {
            "tags": []
          },
          "execution_count": 14
        }
      ]
    },
    {
      "cell_type": "code",
      "metadata": {
        "id": "C3w7ssbO6o3N"
      },
      "source": [
        "X_test = X_test.reshape(10000,784)"
      ],
      "execution_count": 15,
      "outputs": []
    },
    {
      "cell_type": "code",
      "metadata": {
        "colab": {
          "base_uri": "https://localhost:8080/"
        },
        "id": "hhr3RWby67km",
        "outputId": "8a7bbeee-83e1-492a-bad9-4482dd33d700"
      },
      "source": [
        "X_test.shape"
      ],
      "execution_count": 16,
      "outputs": [
        {
          "output_type": "execute_result",
          "data": {
            "text/plain": [
              "(10000, 784)"
            ]
          },
          "metadata": {
            "tags": []
          },
          "execution_count": 16
        }
      ]
    },
    {
      "cell_type": "code",
      "metadata": {
        "colab": {
          "base_uri": "https://localhost:8080/"
        },
        "id": "m0D3DJFg69aH",
        "outputId": "66c66c9a-da29-4992-c291-207cb596a782"
      },
      "source": [
        "Y_train.shape"
      ],
      "execution_count": 17,
      "outputs": [
        {
          "output_type": "execute_result",
          "data": {
            "text/plain": [
              "(60000,)"
            ]
          },
          "metadata": {
            "tags": []
          },
          "execution_count": 17
        }
      ]
    },
    {
      "cell_type": "code",
      "metadata": {
        "colab": {
          "base_uri": "https://localhost:8080/"
        },
        "id": "6-_b2XKS7Epn",
        "outputId": "6d00cb95-31f4-48b1-b450-27cb4a331796"
      },
      "source": [
        "print(Y_train[0:11])"
      ],
      "execution_count": 19,
      "outputs": [
        {
          "output_type": "stream",
          "text": [
            "[5 0 4 1 9 2 1 3 1 4 3]\n"
          ],
          "name": "stdout"
        }
      ]
    },
    {
      "cell_type": "code",
      "metadata": {
        "id": "VJ7l8i4h7Hnf"
      },
      "source": [
        "from keras.utils import to_categorical"
      ],
      "execution_count": 20,
      "outputs": []
    },
    {
      "cell_type": "code",
      "metadata": {
        "id": "3lNeMuLe7hhx"
      },
      "source": [
        "Y_train = to_categorical(Y_train)"
      ],
      "execution_count": 21,
      "outputs": []
    },
    {
      "cell_type": "code",
      "metadata": {
        "colab": {
          "base_uri": "https://localhost:8080/"
        },
        "id": "xXNlBTtA7rrS",
        "outputId": "95f4a2df-3245-4857-bdd9-e920d4762ad1"
      },
      "source": [
        "Y_train.shape"
      ],
      "execution_count": 22,
      "outputs": [
        {
          "output_type": "execute_result",
          "data": {
            "text/plain": [
              "(60000, 10)"
            ]
          },
          "metadata": {
            "tags": []
          },
          "execution_count": 22
        }
      ]
    },
    {
      "cell_type": "code",
      "metadata": {
        "colab": {
          "base_uri": "https://localhost:8080/"
        },
        "id": "htGYL0W-7xAA",
        "outputId": "b2526334-1191-439d-89f8-7632bcdfa5bb"
      },
      "source": [
        "print(Y_train[0])"
      ],
      "execution_count": 23,
      "outputs": [
        {
          "output_type": "stream",
          "text": [
            "[0. 0. 0. 0. 0. 1. 0. 0. 0. 0.]\n"
          ],
          "name": "stdout"
        }
      ]
    },
    {
      "cell_type": "code",
      "metadata": {
        "id": "uhlzbLtJ7zNf"
      },
      "source": [
        "from keras.models import Sequential\n",
        "from keras.layers import Dense"
      ],
      "execution_count": 24,
      "outputs": []
    },
    {
      "cell_type": "code",
      "metadata": {
        "colab": {
          "base_uri": "https://localhost:8080/"
        },
        "id": "jd07VsOF8ER_",
        "outputId": "7dd342cc-0fda-4887-e5b8-61d32783debe"
      },
      "source": [
        "model = Sequential()\n",
        "\n",
        "model.add( Dense(units=512, activation='relu', input_shape=(784,)))\n",
        "model.add( Dense(units=256, activation='relu',))\n",
        "model.add( Dense(units=128, activation='relu',))\n",
        "model.add( Dense(units=64, activation='relu',))\n",
        "model.add( Dense(units=10, activation='softmax',))\n",
        "\n",
        "model.summary()"
      ],
      "execution_count": 25,
      "outputs": [
        {
          "output_type": "stream",
          "text": [
            "Model: \"sequential\"\n",
            "_________________________________________________________________\n",
            "Layer (type)                 Output Shape              Param #   \n",
            "=================================================================\n",
            "dense (Dense)                (None, 512)               401920    \n",
            "_________________________________________________________________\n",
            "dense_1 (Dense)              (None, 256)               131328    \n",
            "_________________________________________________________________\n",
            "dense_2 (Dense)              (None, 128)               32896     \n",
            "_________________________________________________________________\n",
            "dense_3 (Dense)              (None, 64)                8256      \n",
            "_________________________________________________________________\n",
            "dense_4 (Dense)              (None, 10)                650       \n",
            "=================================================================\n",
            "Total params: 575,050\n",
            "Trainable params: 575,050\n",
            "Non-trainable params: 0\n",
            "_________________________________________________________________\n"
          ],
          "name": "stdout"
        }
      ]
    },
    {
      "cell_type": "code",
      "metadata": {
        "id": "ZbkbvXEW805y"
      },
      "source": [
        "model.compile(optimizer='adam', loss=\"categorical_crossentropy\",metrics=['accuracy'])"
      ],
      "execution_count": 26,
      "outputs": []
    },
    {
      "cell_type": "code",
      "metadata": {
        "colab": {
          "base_uri": "https://localhost:8080/"
        },
        "id": "5HcM5i869cuD",
        "outputId": "e004c23a-9144-4984-8077-05b3dada312c"
      },
      "source": [
        "model.fit(X_train,Y_train, epochs= 10, validation_split=0.2)"
      ],
      "execution_count": 27,
      "outputs": [
        {
          "output_type": "stream",
          "text": [
            "Epoch 1/10\n",
            "1500/1500 [==============================] - 10s 6ms/step - loss: 2.2377 - accuracy: 0.8167 - val_loss: 0.2437 - val_accuracy: 0.9324\n",
            "Epoch 2/10\n",
            "1500/1500 [==============================] - 9s 6ms/step - loss: 0.1903 - accuracy: 0.9456 - val_loss: 0.1871 - val_accuracy: 0.9492\n",
            "Epoch 3/10\n",
            "1500/1500 [==============================] - 9s 6ms/step - loss: 0.1471 - accuracy: 0.9572 - val_loss: 0.1688 - val_accuracy: 0.9551\n",
            "Epoch 4/10\n",
            "1500/1500 [==============================] - 9s 6ms/step - loss: 0.1247 - accuracy: 0.9642 - val_loss: 0.1575 - val_accuracy: 0.9565\n",
            "Epoch 5/10\n",
            "1500/1500 [==============================] - 9s 6ms/step - loss: 0.1028 - accuracy: 0.9714 - val_loss: 0.1483 - val_accuracy: 0.9600\n",
            "Epoch 6/10\n",
            "1500/1500 [==============================] - 9s 6ms/step - loss: 0.0972 - accuracy: 0.9735 - val_loss: 0.1400 - val_accuracy: 0.9633\n",
            "Epoch 7/10\n",
            "1500/1500 [==============================] - 9s 6ms/step - loss: 0.0789 - accuracy: 0.9778 - val_loss: 0.1367 - val_accuracy: 0.9651\n",
            "Epoch 8/10\n",
            "1500/1500 [==============================] - 9s 6ms/step - loss: 0.0655 - accuracy: 0.9816 - val_loss: 0.1316 - val_accuracy: 0.9698\n",
            "Epoch 9/10\n",
            "1500/1500 [==============================] - 9s 6ms/step - loss: 0.0686 - accuracy: 0.9818 - val_loss: 0.1417 - val_accuracy: 0.9662\n",
            "Epoch 10/10\n",
            "1500/1500 [==============================] - 9s 6ms/step - loss: 0.0613 - accuracy: 0.9840 - val_loss: 0.1625 - val_accuracy: 0.9682\n"
          ],
          "name": "stdout"
        },
        {
          "output_type": "execute_result",
          "data": {
            "text/plain": [
              "<tensorflow.python.keras.callbacks.History at 0x7f1223c7e550>"
            ]
          },
          "metadata": {
            "tags": []
          },
          "execution_count": 27
        }
      ]
    },
    {
      "cell_type": "code",
      "metadata": {
        "colab": {
          "base_uri": "https://localhost:8080/"
        },
        "id": "_G2IhKg39sPf",
        "outputId": "6e0d49a7-348b-49a2-ebd5-abde23266bfb"
      },
      "source": [
        "model.evaluate(X_train,Y_train)"
      ],
      "execution_count": 28,
      "outputs": [
        {
          "output_type": "stream",
          "text": [
            "1875/1875 [==============================] - 4s 2ms/step - loss: 0.0880 - accuracy: 0.9787\n"
          ],
          "name": "stdout"
        },
        {
          "output_type": "execute_result",
          "data": {
            "text/plain": [
              "[0.08801168948411942, 0.9787166714668274]"
            ]
          },
          "metadata": {
            "tags": []
          },
          "execution_count": 28
        }
      ]
    },
    {
      "cell_type": "code",
      "metadata": {
        "colab": {
          "base_uri": "https://localhost:8080/",
          "height": 195
        },
        "id": "4h4W61Scq5xc",
        "outputId": "f9622521-72f1-4953-da6e-040d66454230"
      },
      "source": [
        "pred = model.predict_classes(X_test(idx).reshape(1, 784))[0]\n",
        "print(pred)\n",
        "# predict the classes "
      ],
      "execution_count": 36,
      "outputs": [
        {
          "output_type": "error",
          "ename": "NameError",
          "evalue": "ignored",
          "traceback": [
            "\u001b[0;31m---------------------------------------------------------------------------\u001b[0m",
            "\u001b[0;31mNameError\u001b[0m                                 Traceback (most recent call last)",
            "\u001b[0;32m<ipython-input-36-c29d92201941>\u001b[0m in \u001b[0;36m<module>\u001b[0;34m()\u001b[0m\n\u001b[0;32m----> 1\u001b[0;31m \u001b[0mpred\u001b[0m \u001b[0;34m=\u001b[0m \u001b[0mmodel\u001b[0m\u001b[0;34m.\u001b[0m\u001b[0mpredict_classes\u001b[0m\u001b[0;34m(\u001b[0m\u001b[0mX_test\u001b[0m\u001b[0;34m(\u001b[0m\u001b[0mix\u001b[0m\u001b[0;34m)\u001b[0m\u001b[0;34m.\u001b[0m\u001b[0mreshape\u001b[0m\u001b[0;34m(\u001b[0m\u001b[0;36m1\u001b[0m\u001b[0;34m,\u001b[0m \u001b[0;36m784\u001b[0m\u001b[0;34m)\u001b[0m\u001b[0;34m)\u001b[0m\u001b[0;34m[\u001b[0m\u001b[0;36m0\u001b[0m\u001b[0;34m]\u001b[0m\u001b[0;34m\u001b[0m\u001b[0;34m\u001b[0m\u001b[0m\n\u001b[0m\u001b[1;32m      2\u001b[0m \u001b[0mprint\u001b[0m\u001b[0;34m(\u001b[0m\u001b[0mpred\u001b[0m\u001b[0;34m)\u001b[0m\u001b[0;34m\u001b[0m\u001b[0;34m\u001b[0m\u001b[0m\n\u001b[1;32m      3\u001b[0m \u001b[0;31m# predict the classes\u001b[0m\u001b[0;34m\u001b[0m\u001b[0;34m\u001b[0m\u001b[0;34m\u001b[0m\u001b[0m\n",
            "\u001b[0;31mNameError\u001b[0m: name 'ix' is not defined"
          ]
        }
      ]
    },
    {
      "cell_type": "code",
      "metadata": {
        "id": "bK8rFGGArYCQ"
      },
      "source": [
        ""
      ],
      "execution_count": null,
      "outputs": []
    }
  ]
}